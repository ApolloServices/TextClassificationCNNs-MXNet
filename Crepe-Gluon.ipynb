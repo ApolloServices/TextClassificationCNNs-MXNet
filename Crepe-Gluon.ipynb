{
 "cells": [
  {
   "cell_type": "markdown",
   "metadata": {},
   "source": [
    "# Character-level Convolutional Networks for text Classification\n",
    "\n",
    "## Crepe model implementation with MXNet/Gluon"
   ]
  },
  {
   "cell_type": "markdown",
   "metadata": {},
   "source": [
    "This is an implementation of [the crepe model, Character-level Convolutional Networks for Text Classification](https://arxiv.org/abs/1509.01626) using the MXNet Gluon API. That this is the paper we reference throughout the tutorial\n",
    "\n",
    "We are going to perform a **text classification** task, trying to classify Amazon reviews according to the product category they belong to.\n",
    "\n",
    "This work is inspired from a previous collaborative work with [Ilia Karmanov and Miguel Fierro](https://github.com/ilkarman/NLP-Sentiment)"
   ]
  },
  {
   "cell_type": "markdown",
   "metadata": {},
   "source": [
    "## Install Guide\n",
    "You need to install [Apache MXNet](http://mxnet.incubator.apache.org/) in order to run this tutorial. The following lines should work in most platform but checkout the [Apache install](http://mxnet.incubator.apache.org/install/index.html) guide for more info, especially if you plan to use GPU"
   ]
  },
  {
   "cell_type": "code",
   "execution_count": 39,
   "metadata": {},
   "outputs": [],
   "source": [
    "# GPU install\n",
    "!pip install mxnet-cu90 pandas -q\n",
    "# CPU install\n",
    "#!pip install mxnet pandas -q"
   ]
  },
  {
   "cell_type": "markdown",
   "metadata": {},
   "source": [
    "## Data download\n",
    "The dataset has been made available on this website: http://jmcauley.ucsd.edu/data/amazon/, citation of relevant papers:\n",
    "\n",
    "**Ups and downs: Modeling the visual evolution of fashion trends with one-class collaborative filtering**\n",
    "R. He, J. McAuley\n",
    "*WWW*, 2016\n",
    "\n",
    "**Image-based recommendations on styles and substitutes**\n",
    "J. McAuley, C. Targett, J. Shi, A. van den Hengel\n",
    "*SIGIR*, 2015\n",
    "\n",
    "\n"
   ]
  },
  {
   "cell_type": "markdown",
   "metadata": {},
   "source": [
    "We are downloading a subset of the reviews, the k-core reviews, where k=5. That means that for each category, the dataset has been trimmed to only contain 5 reviews per individual product, and 5 reviews per user."
   ]
  },
  {
   "cell_type": "code",
   "execution_count": 1,
   "metadata": {},
   "outputs": [],
   "source": [
    "import os\n",
    "\n",
    "import mxnet as mx"
   ]
  },
  {
   "cell_type": "code",
   "execution_count": 2,
   "metadata": {},
   "outputs": [
    {
     "name": "stdout",
     "output_type": "stream",
     "text": [
      "Home_and_Kitchen\n",
      "Books\n",
      "CDs_and_Vinyl\n",
      "Movies_and_TV\n",
      "Cell_Phones_and_Accessories\n",
      "Sports_and_Outdoors\n",
      "Clothing_Shoes_and_Jewelry\n"
     ]
    }
   ],
   "source": [
    "base_url = 'http://snap.stanford.edu/data/amazon/productGraph/categoryFiles/'\n",
    "prefix = 'reviews_'\n",
    "suffix = '_5.json.gz'\n",
    "folder = 'data'\n",
    "categories = [\n",
    "    'Home_and_Kitchen',\n",
    "    'Books', \n",
    "    'CDs_and_Vinyl', \n",
    "    'Movies_and_TV', \n",
    "    'Cell_Phones_and_Accessories',\n",
    "    'Sports_and_Outdoors', \n",
    "    'Clothing_Shoes_and_Jewelry'\n",
    "]\n",
    "if not os.path.isdir(folder):\n",
    "    os.mkdir(folder)\n",
    "for category in categories:\n",
    "    print(category)\n",
    "    url = base_url+prefix+category+suffix\n",
    "    mx.test_utils.download(url, dirname=folder)"
   ]
  },
  {
   "cell_type": "markdown",
   "metadata": {},
   "source": [
    "## Data Pre-processing\n",
    "We need to perform some pre-processing steps in order to have the data in a format we can use for training (**X**,**Y**)\n",
    "In order to speed up training and balance the dataset we will only use a subset of reviews for each category."
   ]
  },
  {
   "cell_type": "markdown",
   "metadata": {},
   "source": [
    "### Load the data in memory"
   ]
  },
  {
   "cell_type": "code",
   "execution_count": 3,
   "metadata": {},
   "outputs": [],
   "source": [
    "MAX_ITEMS_PER_CATEGORY = 250000"
   ]
  },
  {
   "cell_type": "markdown",
   "metadata": {},
   "source": [
    "Helper functions to read from the .json.gzip files"
   ]
  },
  {
   "cell_type": "code",
   "execution_count": 4,
   "metadata": {},
   "outputs": [],
   "source": [
    "import pandas as pd\n",
    "import gzip\n",
    "\n",
    "def parse(path):\n",
    "    g = gzip.open(path, 'rb')\n",
    "    for line in g:\n",
    "        yield eval(line)\n",
    "\n",
    "def get_dataframe(path, num_lines):\n",
    "    i = 0\n",
    "    df = {}\n",
    "    for d in parse(path):\n",
    "        if i > num_lines:\n",
    "            break\n",
    "        df[i] = d\n",
    "        i += 1\n",
    "\n",
    "    return pd.DataFrame.from_dict(df, orient='index')"
   ]
  },
  {
   "cell_type": "markdown",
   "metadata": {},
   "source": [
    "For each category we load MAX_ITEMS_PER_CATEGORY by randomly sampling the files and shuffling"
   ]
  },
  {
   "cell_type": "code",
   "execution_count": 5,
   "metadata": {},
   "outputs": [],
   "source": [
    "# Loading data from file if exist\n",
    "try:\n",
    "    data = pd.read_pickle('pickleddata.pkl')\n",
    "except:\n",
    "    data = None"
   ]
  },
  {
   "cell_type": "markdown",
   "metadata": {},
   "source": [
    "If the data is not available in the pickled file, we create it from scratch"
   ]
  },
  {
   "cell_type": "code",
   "execution_count": 6,
   "metadata": {},
   "outputs": [],
   "source": [
    "if data is None:\n",
    "    data = pd.DataFrame(data={'X':[],'Y':[]})\n",
    "    for index, category in enumerate(categories):\n",
    "        df = get_dataframe(\"{}/{}{}{}\".format(folder, prefix, category, suffix), MAX_ITEMS_PER_CATEGORY)    \n",
    "        # Each review's summary is prepended to the main review text\n",
    "        df = pd.DataFrame(data={'X':(df['summary']+' | '+df['reviewText'])[:MAX_ITEMS_PER_CATEGORY],'Y':index})\n",
    "        data = data.append(df)\n",
    "        print('{}:{} reviews'.format(category, len(df)))\n",
    "\n",
    "    # Shuffle the samples\n",
    "    data = data.sample(frac=1)\n",
    "    data.reset_index(drop=True, inplace=True)\n",
    "    # Saving the data in a pickled file\n",
    "    pd.to_pickle(data, 'pickleddata.pkl')"
   ]
  },
  {
   "cell_type": "markdown",
   "metadata": {},
   "source": [
    "Let's visualize the data:"
   ]
  },
  {
   "cell_type": "code",
   "execution_count": 7,
   "metadata": {},
   "outputs": [
    {
     "name": "stdout",
     "output_type": "stream",
     "text": [
      "Value counts:\n",
      " 1.0    250000\n",
      "6.0    250000\n",
      "5.0    250000\n",
      "3.0    250000\n",
      "2.0    250000\n",
      "0.0    250000\n",
      "4.0    194439\n",
      "Name: Y, dtype: int64\n",
      "0 Home_and_Kitchen\n",
      "1 Books\n",
      "2 CDs_and_Vinyl\n",
      "3 Movies_and_TV\n",
      "4 Cell_Phones_and_Accessories\n",
      "5 Sports_and_Outdoors\n",
      "6 Clothing_Shoes_and_Jewelry\n"
     ]
    },
    {
     "data": {
      "text/html": [
       "<div>\n",
       "<style scoped>\n",
       "    .dataframe tbody tr th:only-of-type {\n",
       "        vertical-align: middle;\n",
       "    }\n",
       "\n",
       "    .dataframe tbody tr th {\n",
       "        vertical-align: top;\n",
       "    }\n",
       "\n",
       "    .dataframe thead th {\n",
       "        text-align: right;\n",
       "    }\n",
       "</style>\n",
       "<table border=\"1\" class=\"dataframe\">\n",
       "  <thead>\n",
       "    <tr style=\"text-align: right;\">\n",
       "      <th></th>\n",
       "      <th>X</th>\n",
       "      <th>Y</th>\n",
       "    </tr>\n",
       "  </thead>\n",
       "  <tbody>\n",
       "    <tr>\n",
       "      <th>0</th>\n",
       "      <td>great product | Not too expensive.  Extra soft...</td>\n",
       "      <td>5.0</td>\n",
       "    </tr>\n",
       "    <tr>\n",
       "      <th>1</th>\n",
       "      <td>TEA KETTLE | WHAT CAN I SAY ITS A TEA KETTLE. ...</td>\n",
       "      <td>0.0</td>\n",
       "    </tr>\n",
       "    <tr>\n",
       "      <th>2</th>\n",
       "      <td>heay, Heavy,HEAVY! | Holy crap! Vile is just t...</td>\n",
       "      <td>2.0</td>\n",
       "    </tr>\n",
       "    <tr>\n",
       "      <th>3</th>\n",
       "      <td>fantastic as good as I remember | A replacemen...</td>\n",
       "      <td>2.0</td>\n",
       "    </tr>\n",
       "    <tr>\n",
       "      <th>4</th>\n",
       "      <td>This is a Must | I Love This Disc.James Brown&amp;...</td>\n",
       "      <td>2.0</td>\n",
       "    </tr>\n",
       "  </tbody>\n",
       "</table>\n",
       "</div>"
      ],
      "text/plain": [
       "                                                   X    Y\n",
       "0  great product | Not too expensive.  Extra soft...  5.0\n",
       "1  TEA KETTLE | WHAT CAN I SAY ITS A TEA KETTLE. ...  0.0\n",
       "2  heay, Heavy,HEAVY! | Holy crap! Vile is just t...  2.0\n",
       "3  fantastic as good as I remember | A replacemen...  2.0\n",
       "4  This is a Must | I Love This Disc.James Brown&...  2.0"
      ]
     },
     "execution_count": 7,
     "metadata": {},
     "output_type": "execute_result"
    }
   ],
   "source": [
    "print('Value counts:\\n',data['Y'].value_counts())\n",
    "for i,cat in enumerate(categories):\n",
    "    print(i, cat)\n",
    "data.head()"
   ]
  },
  {
   "cell_type": "markdown",
   "metadata": {},
   "source": [
    "### Creating the dataset"
   ]
  },
  {
   "cell_type": "code",
   "execution_count": 8,
   "metadata": {},
   "outputs": [],
   "source": [
    "import multiprocessing\n",
    "\n",
    "from mxnet import nd, autograd, gluon\n",
    "from mxnet.gluon.data import ArrayDataset\n",
    "from mxnet.gluon.data import DataLoader\n",
    "import numpy as np"
   ]
  },
  {
   "cell_type": "markdown",
   "metadata": {},
   "source": [
    "Setting up the parameters for the network"
   ]
  },
  {
   "cell_type": "code",
   "execution_count": 9,
   "metadata": {},
   "outputs": [],
   "source": [
    "ALPHABET = list(\"abcdefghijklmnopqrstuvwxyz0123456789-,;.!?:'\\\"/\\\\|_@#$%^&*~`+ =<>()[]{}\") # The 69 characters as specified in the paper\n",
    "ALPHABET_INDEX = {letter: index for index, letter in enumerate(ALPHABET)} # { a: 0, b: 1, etc}\n",
    "FEATURE_LEN = 1014 # max-length in characters for one document\n",
    "NUM_WORKERS = max(multiprocessing.cpu_count() - 3, 1)# number of workers used in the data loading\n",
    "BATCH_SIZE = 128 # number of documents per batch"
   ]
  },
  {
   "cell_type": "markdown",
   "metadata": {},
   "source": [
    "According to the paper, each document needs to be encoded in the following manner:\n",
    "    - Truncate to 1014 characters\n",
    "    - Reverse the string\n",
    "    - One-hot encode based on the alphabet\n",
    "    \n",
    "The following `encode` function does this for us"
   ]
  },
  {
   "cell_type": "code",
   "execution_count": 10,
   "metadata": {},
   "outputs": [],
   "source": [
    "def encode(text):\n",
    "    encoded = np.zeros([len(ALPHABET), FEATURE_LEN], dtype='float32')\n",
    "    review = text.lower()[:FEATURE_LEN-1:-1]\n",
    "    i = 0\n",
    "    for letter in text:\n",
    "        if i >= FEATURE_LEN:\n",
    "            break;\n",
    "        if letter in ALPHABET_INDEX:\n",
    "            encoded[ALPHABET_INDEX[letter]][i] = 1\n",
    "        i += 1\n",
    "    return encoded"
   ]
  },
  {
   "cell_type": "markdown",
   "metadata": {},
   "source": [
    "The MXNet DataSet and DataLoader API lets you create different worker to pre-fetch the data and encode it the way you want, in order to prevent your GPU from starving"
   ]
  },
  {
   "cell_type": "code",
   "execution_count": 11,
   "metadata": {},
   "outputs": [],
   "source": [
    "def transform(x, y):\n",
    "    return encode(x), y"
   ]
  },
  {
   "cell_type": "markdown",
   "metadata": {},
   "source": [
    "We split our data into a training and a testing dataset"
   ]
  },
  {
   "cell_type": "code",
   "execution_count": 12,
   "metadata": {},
   "outputs": [],
   "source": [
    "split = 0.8\n",
    "split_index = int(split*len(data))\n",
    "train_data_X = data['X'][:split_index].as_matrix()\n",
    "train_data_Y = data['Y'][:split_index].as_matrix()\n",
    "test_data_X = data['X'][split_index:].as_matrix()\n",
    "test_data_Y = data['Y'][split_index:].as_matrix()\n",
    "train_dataset = ArrayDataset(train_data_X, train_data_Y).transform(transform)\n",
    "test_dataset = ArrayDataset(test_data_X, test_data_Y).transform(transform)"
   ]
  },
  {
   "cell_type": "markdown",
   "metadata": {},
   "source": [
    "Creating the training and testing dataloader, with NUM_WORKERS set to the number of CPU core"
   ]
  },
  {
   "cell_type": "code",
   "execution_count": 13,
   "metadata": {},
   "outputs": [],
   "source": [
    "train_dataloader = DataLoader(train_dataset, shuffle=True, batch_size=BATCH_SIZE, num_workers=NUM_WORKERS, last_batch='rollover')"
   ]
  },
  {
   "cell_type": "code",
   "execution_count": 14,
   "metadata": {},
   "outputs": [],
   "source": [
    "test_dataloader = DataLoader(test_dataset, shuffle=False, batch_size=BATCH_SIZE, num_workers=NUM_WORKERS, last_batch='rollover')"
   ]
  },
  {
   "cell_type": "markdown",
   "metadata": {},
   "source": [
    "## Creation of the network"
   ]
  },
  {
   "cell_type": "markdown",
   "metadata": {},
   "source": [
    "The context will define where the training takes place, on the CPU or on the GPU"
   ]
  },
  {
   "cell_type": "code",
   "execution_count": 15,
   "metadata": {},
   "outputs": [],
   "source": [
    "ctx = mx.gpu() if mx.context.num_gpus() else mx.cpu()"
   ]
  },
  {
   "cell_type": "markdown",
   "metadata": {},
   "source": [
    "We create the network following the instructions describe in the paper, using the small feature and small output units configuration"
   ]
  },
  {
   "cell_type": "markdown",
   "metadata": {},
   "source": [
    "![img](data/diagram.png)\n",
    "![img](data/convolutional_layers.png)\n",
    "![img](data/dense_layer.png)\n"
   ]
  },
  {
   "cell_type": "markdown",
   "metadata": {},
   "source": [
    "Based on the paper we set the following parameters:"
   ]
  },
  {
   "cell_type": "code",
   "execution_count": 16,
   "metadata": {},
   "outputs": [],
   "source": [
    "NUM_FILTERS = 256 # number of convolutional filters per convolutional layer\n",
    "NUM_OUTPUTS = len(categories) # number of classes\n",
    "FULLY_CONNECTED = 1024 # number of unit in the fully connected dense layer\n",
    "DROPOUT_RATE = 0.5 # probability of node drop out\n",
    "LEARNING_RATE = 0.001 # learning rate of the gradient\n",
    "MOMENTUM = 0.9 # momentum of the gradient\n",
    "WDECAY = 0.00001 # regularization term to limit size of weights"
   ]
  },
  {
   "cell_type": "code",
   "execution_count": 17,
   "metadata": {},
   "outputs": [],
   "source": [
    "net = gluon.nn.HybridSequential()\n",
    "with net.name_scope():\n",
    "    net.add(gluon.nn.Conv1D(channels=NUM_FILTERS, kernel_size=7, activation='relu'))\n",
    "    net.add(gluon.nn.MaxPool1D(pool_size=3, strides=3))\n",
    "    net.add(gluon.nn.Conv1D(channels=NUM_FILTERS, kernel_size=7, activation='relu'))\n",
    "    net.add(gluon.nn.MaxPool1D(pool_size=3, strides=3))\n",
    "    net.add(gluon.nn.Conv1D(channels=NUM_FILTERS, kernel_size=3, activation='relu'))\n",
    "    net.add(gluon.nn.Conv1D(channels=NUM_FILTERS, kernel_size=3, activation='relu'))\n",
    "    net.add(gluon.nn.Conv1D(channels=NUM_FILTERS, kernel_size=3, activation='relu'))\n",
    "    net.add(gluon.nn.Conv1D(channels=NUM_FILTERS, kernel_size=3, activation='relu'))\n",
    "    net.add(gluon.nn.MaxPool1D(pool_size=3, strides=3))\n",
    "    net.add(gluon.nn.Flatten())\n",
    "    net.add(gluon.nn.Dense(FULLY_CONNECTED, activation='relu'))\n",
    "    net.add(gluon.nn.Dropout(DROPOUT_RATE))\n",
    "    net.add(gluon.nn.Dense(FULLY_CONNECTED, activation='relu'))\n",
    "    net.add(gluon.nn.Dropout(DROPOUT_RATE))\n",
    "    net.add(gluon.nn.Dense(NUM_OUTPUTS))\n"
   ]
  },
  {
   "cell_type": "code",
   "execution_count": 18,
   "metadata": {},
   "outputs": [
    {
     "name": "stdout",
     "output_type": "stream",
     "text": [
      "HybridSequential(\n",
      "  (0): Conv1D(None -> 256, kernel_size=(7,), stride=(1,), Activation(relu))\n",
      "  (1): MaxPool1D(size=(3,), stride=(3,), padding=(0,), ceil_mode=False)\n",
      "  (2): Conv1D(None -> 256, kernel_size=(7,), stride=(1,), Activation(relu))\n",
      "  (3): MaxPool1D(size=(3,), stride=(3,), padding=(0,), ceil_mode=False)\n",
      "  (4): Conv1D(None -> 256, kernel_size=(3,), stride=(1,), Activation(relu))\n",
      "  (5): Conv1D(None -> 256, kernel_size=(3,), stride=(1,), Activation(relu))\n",
      "  (6): Conv1D(None -> 256, kernel_size=(3,), stride=(1,), Activation(relu))\n",
      "  (7): Conv1D(None -> 256, kernel_size=(3,), stride=(1,), Activation(relu))\n",
      "  (8): MaxPool1D(size=(3,), stride=(3,), padding=(0,), ceil_mode=False)\n",
      "  (9): Flatten\n",
      "  (10): Dense(None -> 1024, Activation(relu))\n",
      "  (11): Dropout(p = 0.5, axes=())\n",
      "  (12): Dense(None -> 1024, Activation(relu))\n",
      "  (13): Dropout(p = 0.5, axes=())\n",
      "  (14): Dense(None -> 7, linear)\n",
      ")\n"
     ]
    }
   ],
   "source": [
    "print(net)"
   ]
  },
  {
   "cell_type": "markdown",
   "metadata": {},
   "source": [
    "Here we define whether we load a pre-trained version of the model and [hybridize the network](https://mxnet.incubator.apache.org/tutorials/gluon/hybrid.html) for speed improvements"
   ]
  },
  {
   "cell_type": "code",
   "execution_count": 19,
   "metadata": {},
   "outputs": [],
   "source": [
    "hybridize = True # for speed improvement, compile the network but no in-depth debugging possible\n",
    "load_params = True # Load pre-trained model"
   ]
  },
  {
   "cell_type": "markdown",
   "metadata": {},
   "source": [
    "### Parameter initialization"
   ]
  },
  {
   "cell_type": "code",
   "execution_count": 20,
   "metadata": {},
   "outputs": [],
   "source": [
    "if load_params:\n",
    "    net.load_parameters('model/crepe_gluon_epoch6.params', ctx=ctx)\n",
    "else:\n",
    "    net.initialize(mx.init.Xavier(magnitude=2.24), ctx=ctx)"
   ]
  },
  {
   "cell_type": "markdown",
   "metadata": {},
   "source": [
    "### Hybridization"
   ]
  },
  {
   "cell_type": "code",
   "execution_count": 21,
   "metadata": {},
   "outputs": [],
   "source": [
    "if hybridize:\n",
    "    net.hybridize(static_alloc=True, static_shape=True)"
   ]
  },
  {
   "cell_type": "markdown",
   "metadata": {},
   "source": [
    "### Softmax cross-entropy Loss"
   ]
  },
  {
   "cell_type": "markdown",
   "metadata": {},
   "source": [
    "We are in a multi-class classification problem, so we use the [Softmax Cross entropy loss](https://deepnotes.io/softmax-crossentropy)"
   ]
  },
  {
   "cell_type": "code",
   "execution_count": 22,
   "metadata": {},
   "outputs": [],
   "source": [
    "softmax_cross_entropy = gluon.loss.SoftmaxCrossEntropyLoss()"
   ]
  },
  {
   "cell_type": "markdown",
   "metadata": {},
   "source": [
    "### Optimizer"
   ]
  },
  {
   "cell_type": "code",
   "execution_count": 23,
   "metadata": {},
   "outputs": [],
   "source": [
    "trainer = gluon.Trainer(net.collect_params(), 'sgd', \n",
    "                        {'learning_rate': LEARNING_RATE, \n",
    "                         'wd':WDECAY, \n",
    "                         'momentum':MOMENTUM})"
   ]
  },
  {
   "cell_type": "markdown",
   "metadata": {},
   "source": [
    "### Evaluate Accuracy"
   ]
  },
  {
   "cell_type": "code",
   "execution_count": 24,
   "metadata": {},
   "outputs": [],
   "source": [
    "def evaluate_accuracy(data_iterator, net):\n",
    "    acc = mx.metric.Accuracy()\n",
    "    for i, (data, label) in enumerate(data_iterator):\n",
    "        data = data.as_in_context(ctx)\n",
    "        label = label.as_in_context(ctx)\n",
    "        output = net(data)\n",
    "        prediction = nd.argmax(output, axis=1)\n",
    "        acc.update(preds=prediction, labels=label)\n",
    "    return acc.get()[1]"
   ]
  },
  {
   "cell_type": "markdown",
   "metadata": {},
   "source": [
    "### Training Loop\n",
    "We loop through the batches given by the data_loader. These batches have been asynchronously fetched by the workers.\n",
    "\n",
    "After an epoch, we measure the test_accuracy and save the parameters of the model"
   ]
  },
  {
   "cell_type": "code",
   "execution_count": 39,
   "metadata": {},
   "outputs": [
    {
     "name": "stdout",
     "output_type": "stream",
     "text": [
      "Epoch 6. Loss: 0.1593, Test_acc 0.9356\n"
     ]
    }
   ],
   "source": [
    "start_epoch = 6\n",
    "number_epochs = 7\n",
    "smoothing_constant = .01\n",
    "for e in range(start_epoch, number_epochs):\n",
    "    for i, (review, label) in enumerate(train_dataloader):\n",
    "        review = review.as_in_context(ctx)\n",
    "        label = label.as_in_context(ctx)\n",
    "        with autograd.record():\n",
    "            output = net(review)\n",
    "            loss = softmax_cross_entropy(output, label)\n",
    "        loss.backward()\n",
    "        trainer.step(review.shape[0])\n",
    "        \n",
    "        # moving average of the loss\n",
    "        curr_loss = nd.mean(loss)\n",
    "        moving_loss = (curr_loss if (i == 0) \n",
    "                       else (1 - smoothing_constant) * moving_loss + (smoothing_constant) * curr_loss)\n",
    "\n",
    "        if (i%200 == 0):\n",
    "            print('Batch {}: Instant loss {:.4f}, Moving loss {:.4f}'.format(i,curr_loss.asscalar(), moving_loss.asscalar()))\n",
    "\n",
    "    test_accuracy = evaluate_accuracy(test_dataloader, net)\n",
    "    #Save the model using the gluon params format\n",
    "    net.save_parameters('crepe_epoch_{}_test_acc_{}.params'.format(e,int(test_accuracy*10000)/100))\n",
    "    print(\"Epoch {}. Loss: {:.4f}, Test_acc {:.4f}\".format(e, moving_loss.asscalar(), test_accuracy))"
   ]
  },
  {
   "cell_type": "markdown",
   "metadata": {},
   "source": [
    "### Export to the symbolic format\n",
    "The `save_params()` method works for models trained in Gluon. \n",
    "\n",
    "However the `export()` function, exports it to a format usable in the symbolic API, if you wanted to use in C++ or Scala for example."
   ]
  },
  {
   "cell_type": "code",
   "execution_count": 40,
   "metadata": {},
   "outputs": [],
   "source": [
    "net.export('crepe', epoch=number_epochs)"
   ]
  },
  {
   "cell_type": "markdown",
   "metadata": {},
   "source": [
    "### Random testing\n",
    "\n",
    "Let's randomly pick a few reviews and see how the classifier does!"
   ]
  },
  {
   "cell_type": "code",
   "execution_count": 25,
   "metadata": {},
   "outputs": [
    {
     "name": "stdout",
     "output_type": "stream",
     "text": [
      "Lovin' these! | I absolutely love these resistance bands! You have every amount of resistance you could need, and bands can be easily added together to get your perfect resistance. The handles are comfortable, and the door anchor does stay in the door. I was a little scared to try the door anchor because I was afraid it was going to come flying out and hit me in the face, but I tested it using a long broom lol. I do love using resistance bands instead of weights because you get lean muscle instead of bulky muscle like from free weights. This is a great set, and I highly recommend them.\n",
      "\n",
      "Category: Sports_and_Outdoors\n",
      "\n",
      "Correct\n",
      "Building Abs | The fitness rolling slider is helping me to recover muscle tone in my abs and I appreciate the way it works.\n",
      "\n",
      "Category: Sports_and_Outdoors\n",
      "\n",
      "Correct\n",
      "Hard Nights...Long Days | I Lived That ...I was born in &#34;58&#34; & was in my senior year in &#34;77&#34;....I'm from a small town in ct Had really nice cars & a LOT of girls...However I never &#34;partied&#34; till the mid 80s....\n",
      "\n",
      "Category: Movies_and_TV\n",
      "\n",
      "Incorrectly predicted Clothing_Shoes_and_Jewelry\n",
      "Nexus 5 | Excellent fit with all the cut-outs perfectly placed...on-off/volume control work flawlessly....case shows off the N-5 with minimal bulk and all with a reasonable cost!!!!\n",
      "\n",
      "Category: Cell_Phones_and_Accessories\n",
      "\n",
      "Incorrectly predicted Clothing_Shoes_and_Jewelry\n",
      "nice rugged looking belt | Value for money, it looks rugged and durable. Should be able to last me quite sometime.The width is thick so it probably will not fit most pants.\n",
      "\n",
      "Category: Clothing_Shoes_and_Jewelry\n",
      "\n",
      "Correct\n",
      "Laserlight Edition a bargain | For those of you concerned that Laserlight's inexpensive DVD of &quot;The 39 Steps&quot; might be lacking in quality, you needn't worry. The transfer was made from a good print, the picture and sound is fine, and there are even a few modest extras (including a trailer from the similarly-themed &quot;North by Northwest&quot; and a friendly, if not very illuminating, introduction by Tony Curtis). I'm sure the Criterion edition surpasses this Laserlight DVD in a number of areas, but fans who just want a nice solid copy of the film to enjoy from time to time should know that this inexpensive version is perfectly acceptable. I look forward to sampling more of the Laserlight DVDs of Hitchcock's early classics.\n",
      "\n",
      "Category: Movies_and_TV\n",
      "\n",
      "Correct\n",
      "Great knife | This big fella has a really nice feel to it and is really helpful for stripping bark off hiking sticks.  Very sturdy.\n",
      "\n",
      "Category: Sports_and_Outdoors\n",
      "\n",
      "Correct\n",
      "soft! | Yes, are slightly larger than I thought, but I was warned.  That said, having them a little larger makes them a breeze to remove from sweaty hands and the pull tab was a great idea.  I will def buy these gloves again.\n",
      "\n",
      "Category: Sports_and_Outdoors\n",
      "\n",
      "Incorrectly predicted Clothing_Shoes_and_Jewelry\n",
      "Sympathy for the people | This is a very strange album , it's actually not really an LP , it's kinda like the extra from Portrait Of An American Family . Smells like children is awsome to listen to in the dark , and the Dope Hat remixes are good . The Album is a big joke , and it's hilarious . F*** Frankie is hilarious . To give you the best tracks from my opinion are. Diary Of A Dope Fiend  , Kiddie Grinder , Sweet Dreams , Rock'n'Roll N*****. Hope this helped you .\n",
      "\n",
      "Category: CDs_and_Vinyl\n",
      "\n",
      "Correct\n",
      "My favorite jeans | Carhartt jeans are the best in my book. Been wearing this cut for years and probably will for many more. reasonably priced jeans that wear well. I'm a cheapskate at heart...these are right up my alley!\n",
      "\n",
      "Category: Clothing_Shoes_and_Jewelry\n",
      "\n",
      "Correct\n",
      "Excellent cycle gloves | Great cycling gloves.  Affordable and very comfortable on long rides.  I use these both rode and mountain bike riding.  I highly recommend these.\n",
      "\n",
      "Category: Sports_and_Outdoors\n",
      "\n",
      "Correct\n",
      "Impressive debut | Meth has a distinct stilo from the rest of the Clan and it is apparent that he ain't wrapped too tight. I admire this album for two reasons: the beats all by the RZA and the chronic influence all over the lyrics. Honeys might not dig this because the version of All I Need with Mary J. is absent but the dark and bangin' original is , so are Tical, Biscuits and Release Yo Delf.If you wanna go back to '94, Prendelo!\n",
      "\n",
      "Category: CDs_and_Vinyl\n",
      "\n",
      "Correct\n",
      "Cast Iron and SuperSaver Shipping = Woo Hoo! | I have had a couple of cast iron skillets prior to purchasing this Dutch Oven from Amazon. This Oven is great. I use it for stews and beans and sourdough bread and all sorts of things.Because I will use this in the oven rather than over a campfire, the  handles on the side of the Dutch Oven work much better that the wire bail handle. The picture may have the wire hadle. This isn't that pot.I use this as my crockpot replacement. Don't need one with this around. That's just  my $.02, others will say that both are so cheap that you could get a crockpot too, and it would still be much cheaper than Le Crueset.It's cast iron. You know how good that is. The only thing I don't make in it are tomato sauces and other things that would not be so great with a reactive vessel. In several years, when the seasoning is rock hard, even that might not be a problem.Amazon has a great price and super saver shipping on cast iron. Read that again. Free shipping on cast iron. When I got the packing list, the shipping alone would have been about $13.00, ground.Many comments here about the seasoning - both good and bad. Having had cast iron before, I washed it and reseasoned it by oiling it and baking it upside down for an hour or so at 350 degrees (F) before using it the first time. I also stuck my other cast iron pieces in there at the same time. Why not? Worked great. No sticking at all.I reseason my stuff 1 - 2 times a year, at least. It's just part of maintaning the stuff. I will probably do the new dutch oven more often than that for the first several years to get it to the same point where the other pans are a bit faster.\n",
      "\n",
      "Category: Home_and_Kitchen\n",
      "\n",
      "Correct\n",
      "Canadian Thriller | A some what decent cold war spy thriller from Canada, loosely based on real life characters. A U.S. Naval officer turned CIA spy to catch the infamous \"Carlos the Jackal\". Ben Kingly and Donald Sutherland are the veteran actors in this film. Aidan Quinn, although not Cuban, dose make it come off fairly well. (I'm  Cuban, I should know.)Decent action and well shot and edited. I would have liked to see maybe a little more spy gadgetry but then that's Bonds territory.Over all this was a good movie with all around solid performances by the cast.\n",
      "\n",
      "Category: Movies_and_TV\n",
      "\n",
      "Correct\n",
      "Amazing Grace | Fantastic book!  I was surprised how little I knew about the history of the slave trade.  The depravity that allowed such an abomination to continue so long for profit is simply shocking. We tend to think of slavery as exclusive to the American south.  In fact, Europe shares the burden of guilt for this horror. England in the mid to late 1700's was not the prim and proper gentrified place of our imaginations.  Slavery was but one example of the ugly, evil affairs of the time. Self absorbed cruelty was the common condition. Yet goodness bloomed and struggled mightily against the darkness in the person of William Wilberforce. Wilberforce's story and struggles along with those of the like-minded men and women who worked with him is astounding and uplifting.  We take for granted many of the social changes that came about through their efforts.  Eric Metaxas has captured the heart and soul of the times and beautifully tells the tale of the man whose faith and conscience brought an end to the slave trade.  We must not remain in the dark about this history. Eric Metaxas has brought us a profound and important story in a page turning, entertaining, soul-stirring book. Read it!\n",
      "\n",
      "Category: Books\n",
      "\n",
      "Correct\n",
      "Exactly what I was looking for! | Perfect! It is actually pretty too!  It's a perfect size, and is exactly what I was looking. I would recommend it!\n",
      "\n",
      "Category: Home_and_Kitchen\n",
      "\n",
      "Incorrectly predicted Clothing_Shoes_and_Jewelry\n",
      "Great length and durable insulation | Excellent for long stretches between outlet and point-of-use.  It had more than enough length to reach from apt. to my car and used it to run a heat gun.  Good quality insulation and would buy again, thanks.\n",
      "\n",
      "Category: Sports_and_Outdoors\n",
      "\n",
      "Correct\n",
      "Great fit | Initially, I would've given this 5 stars, however, after 2-ish years, it has spots of rust on it.  I'm not happy with that, however, the way the lid opens easily with my elbow, foot, or whatever's available, the shape of this can (round doesn't fit in the space available), and the fact that it has an interior plastic can, I would still buy it again despite the rust.\n",
      "\n",
      "Category: Home_and_Kitchen\n",
      "\n",
      "Correct\n",
      "An Exceptional Movie, Can't Wait for the Signature DVD!! | I first saw this film in Scottsdale, AZ at the local arthouse movie theatre, and it really left me with a feeling. Couldn't immediately put it into words or identify it, but a feeling nonetheless...an impact...a strange sensation. The more time that passed, the more I thought about the film and the more I liked the experiece while watching it. Although I have never been to HK, I believe that Wayne Wang has captured the breath and soul of Hong Kong and the mysteries that it carries. It has put in me, a hope and a dream that one day I can visit this exotic city and breathe in the aroma, the sounds and sights of its vibrant, pulsing atmosphere. Even with Ms. Li's newly budding English skills, this is still a remarkable piece and dazzles with metaphors and rich character-driven fabric. Ruben Blades is a marvelous choice as Iron's ex-pat friend and strums a beautiful song, Across the Borderline. Mr. Wang, if you are listening, this is fine piece of work and I hope that you continue to make these wonderful films that evoke a canvas of feelings and stimulate the senses.\n",
      "\n",
      "Category: Movies_and_TV\n",
      "\n",
      "Correct\n",
      "Zero tolerance, exactly 1\" or 25.4mm | This mount has zero tolerance for lights or lasers.  I purchased it for my light and unfortunately, it doesn't fit.  The light fits other mounts, but this one is a solid tube machined out of aluminum with a tab cut for clamping the light in place.  There is no way to expand the housing to fit a light or laser even temporarily to get it in place.  If you have a Dremel tool, you can remove the screws and cut an expansion slot between the clamps, but obviously, there are risks with that and will clearly void any warranty or return option.\n",
      "\n",
      "Category: Sports_and_Outdoors\n",
      "\n",
      "Correct\n",
      "Gets the job done | I do really like this mixer. It is my first stand mixer. I really really want a Kitchenaid but due to price I had to settle for this one for now. I wish that the big bowl was able to be even bigger. I think the motor starts getting strong to fast. I think it will carry me thru for now but I still plan to get a Kitchenaid down the road because it has so many capabilities and add ons. For my first mixer I'm happy but I'll see how it does when I really kick it into gear.\n",
      "\n",
      "Category: Home_and_Kitchen\n",
      "\n",
      "Correct\n",
      "Cat tells it like it is! | One major reason to buy this album is that is is the closest you can come to owning a \"Harold and Maude\" soundtrack.  But there is so much more of value here than those songs, though they are among the best on the album in my opinion. I feel that this is a worthy introduction to Stevens' music, despite the omission of a few key songs. Unfortunately it also chronicles a shift in Stevens' style from the more folksy, heartfelt tunes of his early years to the more slicky produced, synthsized sounds of his later career. Obviously I belong to the subgroup of Stevens fans who feel that his earlier work was far superior; I regard some of the later songs on this disc as curiosity pieces to show what '70s-style production could do to even the most capable of musicians.There are many gems worth hearing here, though. The classic \"Father and Son\", still applicable today; \"If You Want To Sing Out, Sing Out\", an embracing of a Zen-like philosophy too seldom seen today; \"On the Road to Find Out\", which somehow can make a spiritual seeker like me (or you) realize that being on the path is the best place to be and not to rush toward the end. Cat Stevens may not employ the haunting imagery of a Leonard Cohen or the pervasive atmospherics of a Tom Waits, but he can still write deeply affecting songs with the best of them. The simplicity of his tunes gives them the appeal of modern haikus, and his voice seems to say that he means every word. There are some who prefer to wallow in their miseries and misfortunes, surrounding themselves with dark influences at times when their lives are equally black. If you're one of those, don't purchase this CD. But if you prefer to look up at the stars when you're lying in a gutter, buy this CD (or any others Cat Stevens has made) the next time you're feeling down. Put it in your car and drive to the nearest empty field you know. Bring a bottle of wine or an ice-cream cone. Park in that field, sit on the ground, and let the music play from your open car doors. Loudly. And then you'll know what Cat knows. Everything is going to be all right.\n",
      "\n",
      "Category: CDs_and_Vinyl\n",
      "\n",
      "Correct\n",
      "&quot;Noel's Song...&quot; | is very much missed.  Noel's music got me through college, when I needed to just relax.  One of the finest jazz violinist to pick the instrument up, this is one of his best.  Noel made the violin sing and whether the melody was fast or slow, it was beautiful.  &quot;Look of Love&quot; is seductive, &quot;Never Lose Your Heart&quot; is inspiring and &quot;Make it Real&quot; just sings with the beauty of his artistry.  Noel had a warm vocal style and combined with his ability to make the violin sing, he presented his fans with a musical legacy we won't soon forget.  I miss him much, but I am grateful for the music he has left us.\n",
      "\n",
      "Category: CDs_and_Vinyl\n",
      "\n",
      "Correct\n",
      "The Real Jesus by Luke Timothy Johnson | The BIBLE is the inspired WORD of GOD.  Therefore, what God wants his creation to know is written there and interpreted by the Holy Spirit.  Those who are trying to 'dig up' new information are trying to draw attention to self & away from the WORD.\n",
      "\n",
      "Category: Books\n",
      "\n",
      "Correct\n",
      "A Christ for \"our times\" | This is the most publicized version of all the  motion pictures that portray Jesus. In this case, \"the crucifixtion\". The media, through commentary and reviews, have exhausted the headlines. Critics have traversed from a \"devout rendition\" to a \"magnanimous publicity stunt\", with Mr. Gibson taking it head on.It is a tremendous film and an absolute \"must see\". Yes, it is violent. Years ago, in a film showing Christ, we never saw His face. Then it was a young and energetic Jeffrey Hunter. A mature and intense Max von Sydow. And so on. Now Mel Gibson gives us Jim Caviezel as a bloody and suffering man or Messiah. The choice is yours as you view this film. But this contemporary portrait is a sign of our times. Perhaps a retrospective on what we have become.The production with its originality of concept works well. You would'nt think a film with no english dialogue could hold your attention. A cast of relatively unknown actors do a superb job. The soundtrack is both eerie and penetrating. Elements of violence are not arbitrary but well thought out.The film is edited for a trim 2 hours and should be seen by both \"believer\" and \"non-believer\". Just so you can form your own opinion, because that's the only one that counts.\n",
      "\n",
      "Category: Movies_and_TV\n",
      "\n",
      "Correct\n",
      "love this | It gave me the look i was looking for. A must have item, worth the money. Very shiny and fits as expected\n",
      "\n",
      "Category: Clothing_Shoes_and_Jewelry\n",
      "\n",
      "Correct\n",
      "RUSH is at the top of their game with this masterpiece | Moving Pictures was the first RUSH cd that I ever purchased. It's tied for #1 as my favorite with Permanent Waves and 2112. The one drawback about this remastered cd, is that when I play this remaster with my original issue, the remastered cd sounds about the same. I don't understand why they remaster cd's if there is no improvement in the sound quality.The remaster is not bad sounding it just isn't any better. As for the quality of the tracks of Moving Pictures every song is a 10 on a scale of 1-10. Even though TOM SAWYER is a great song, I've heard it one too many times on the radio. YYZ is one of the great instrumentals in rock history. I absolutely love THE CAMERA EYE. I love their really long song's like that.I think VITAL SIGNS should have been put out as a single, it's really cool. Of course last but not least RED BARCHETTA, and LIMELIGHT are absolute classics. If your not sure which RUSH cd to start with, I would suggest \"MOVING PICTURES\", \"PERMANENT WAVES\", or \"2112\".\n",
      "\n",
      "Category: CDs_and_Vinyl\n",
      "\n",
      "Correct\n",
      "Does what other molds can't! | If you are looking for a mold that works this one is the answer you have been searching for. Plastic molds I have used in the past stick and eventually break. These molds have outlasted all their predecessors and done a perfect job every time. These units are more expensive but they last so much longer it is well worth it. This mold is also flexible so you can push the candies out of the mold if they get stuck. No need to grease or lubricate, silicone is the perfect answer.\n",
      "\n",
      "Category: Home_and_Kitchen\n",
      "\n",
      "Correct\n",
      "A plot that includes such horrible events, that they are almost comedic | The story takes place in an upscale rental unit, in the vicinity of the front yard, and occasionally in other settings, such as in a hospital emergency room.  The rental unit is a tattered Victorian home that is located in Pacific Heights.  Pacific Heights is the most expensive part of San Francisco.  A young married couple (Matthew Modine and Melanie Griffith) decides to take out a loan and buy the old Victorian home.  They begin to screen potential renters, politely asking each party to fill out a form to confirm their finances.  As it turns out, one of the potential renters somehow moves into one of the two rental units and begins \"living\" there.  Then the troubles escalate.  The renter (Michael Keaton) never pays the rent or the security deposit.  Michael Keaton has a male roommate who is a non-communicative thug, who makes loud noises at all hours of the day, banging large holes in the walls.  The two roommates keep thousands of cockroaches, who meander free in the apartment.  The cockroaches find their way into the apartment of the neighboring tenants, who are polite middle-aged Japanese professionals.  In one scene, we see the cockroaches spilling out of a small hole under the sink, and meandering around the apt of the Japanese tenants.  In another scene, the Japanese man drives a nail in the wall, for use in hanging a picture, causing an electrical fire, and causing all the lights in the building to go out.  The young couple hires an attorney with the goal of evicting Michael Keaton, but the judge tells the couple that Michael Keaton has a right to continue occupying the apartment.  Things go from bad to worse, to very worse, and to much more worse.  As the story continues, the couple finds itself in deeper sushi.  Another movie, WHAT ABOUT BOB, is similar to this movie, but PACIFIC HEIGHTS is WHAT-ABOUT-BOB-on-steroids.  In WHAT ABOUT BOB, an unwanted houseguest makes himself at home, and the protagonist gets angrier and angrier and drives himself into a fit.  The same sort of thing happens to Matthew Modine in PACIFIC HEIGHTS, who is periodically driven over the edge by Michael Keaton's antics.The normally innocuous theme of PACIFIC HEIGHTS (the issue of evicting a bad tenant), contrasts with the developing horrors that beset the young couple. In a sort of perverted way, this contrast has a comedic effect, at least for the first 2/3rds of the movie.  A similar comedic effect occurs in a 20-minutes sketch by John Candy, called, ROY'S FOOD REPAIR.  What is innocuous in this sketch, is ordinary damage to food, such as a crushed portion of a birthday cake, or salt falling off from potato chips and accumulating at the bottom of the bag.  What is a developing cause of alarm, is the fact that John Candy charges money to repair birthday cakes, potato chips, and other types of food.  Sometimes, John Candy decides that the damage would cost too much to repair, and he refuses to help the client with his food.At about the two-thirds point in PACIFIC HEIGHTS, the film discontinues its flirtation with innocuous comedy.  At this two-thirds point, the film segues into a pathological crime-thriller, almost on par with FORT APACHE THE BRONX or SILENCE OF THE LAMBS.\n",
      "\n",
      "Category: Movies_and_TV\n",
      "\n",
      "Correct\n",
      "Very Nice | This is a very nice jacket.  I wear it with black pants that are made of the same material so it looks like I have on a business pants suit on.  It looks exactly as shown.  Size is accurate to me (I don't know about others), but I wear a small, and the small fit me.  It arrived within a week with Free Super Saving Shipping.\n",
      "\n",
      "Category: Clothing_Shoes_and_Jewelry\n",
      "\n",
      "Correct\n",
      "comfortable | This is more like a shoe than sneaker, offering room for orthotics and comfort. It has a very roomy toe box and stability also.\n",
      "\n",
      "Category: Clothing_Shoes_and_Jewelry\n",
      "\n",
      "Correct\n",
      "No Grip | This case was what I expected in regards to protection, however the grip was not there. Had this case had maybe a rubber grip on both sides... This case would be perfect.\n",
      "\n",
      "Category: Cell_Phones_and_Accessories\n",
      "\n",
      "Correct\n",
      "5 Star album... though bittersweet with David Lee Roth exiting shortly there after... | THE BAND: Eddie Van Halen (guitars, keyboards), David Lee Roth (vocals), Michael Anthony (bass), Alex Van Halen (drums & percussion).THE DISC: (1984) 9 tracks clocking in at approximately 33 minutes. Included with the disc is a 6-page booklet containing song titles/credits/times and all original album artwork. Digitally remastered in 2000. Recorded at 5150 (Eddie Van Halen's home studio in Los Angeles, CA). This is the band's 6th studio album. Label - Warner Bros.COMMENTS: Looking back decades later, this album was bittersweet for me... probably for a lot of people. It was a great comeback from the lackluster \"Diver Down\" (1982). Most of the songs were heavy and the aggression was back. Eddie really cut loose with his guitar on \"1984\". And, a new twist - keyboards took center stage on two tracks (technically three tracks - the title track leading into and including \"Jump\", and \"I'll Wait\"), which turned out to be rather catchy songs. Both slick and melodic, leaning toward the commercial rock side - and garnering lots of time spent on the FM airwaves. \"Jump\" reached #1 on the Billboard charts, and \"I'll Wait\" reached #13. Two more hits came with \"Panama\" (also reaching #13) and \"Hot For Teacher\" (#56). The album itself reached #2 on Billboard's Hot 200 list for '84 (Michael Jackson's \"Thriller\" was the only thing standing in the way of it reaching #1). \"1984\" reached the elite \"Diamond\" certified status (10+ million) in 1999. However successful \"1984\" was though...it would be David Lee Roth's last album with Van Halen. It would be the end of an era (enter the bitter part of \"bittersweet\"). Not a year has gone by since Roth left the band, that I haven't wished they could've stayed together for at least a few more albums. Lots of people say \"1984\" was too heavy on the keyboards. Perhaps this is so only because the band didn't use the keyboards much, and when they did use them, they were always in the background. Outside of \"Jump\" and \"I'll Wait\", the rest of the album jams with old school rock guitars - like the Eddie Van Halen we know from VH's 1st and 2nd albums. The other tracks not mentioned (\"House Of Pain\", \"Girls Gone Bad\", \"Drop Dead Legs\" and the catchy \"Top Jimmy\") were all fast and/or heavy tracks that made the album complete. Listen to the brilliant album closer \"House Of Pain\" - it's one long trademark Eddie Van Halen solo. Absolutely no filler on \"1984\". This would be Van Halen's last classic album (5 stars).\n",
      "\n",
      "Category: CDs_and_Vinyl\n",
      "\n",
      "Correct\n",
      "One of the greatest debut albums of all time. | EVERY SINGLE SONG ON THIS ALBUM IS GREAT.  A MUST OWN FOR CLASSIC ROCK/'70s POP FANS.\n",
      "\n",
      "Category: CDs_and_Vinyl\n",
      "\n",
      "Correct\n",
      "GREAT | Sharon Stone and Michael Douglas in an erotic thriller. What better do you want from an action movie. The story is well written, enough to keep you intrigued through out all the movie. A similar movie would be 9 1/2 weeks so you get the picture. Quality of the DVD and sound is all very good. Recommended for the lover of this genre.\n",
      "\n",
      "Category: Movies_and_TV\n",
      "\n",
      "Correct\n",
      "AWESOME! | Read this and the &#34;One Minute Manager Meets the Monkey&#34;... Both are worth reading- they apply to owners, managers, and all others in any sort of a leadership role. Read them once... Read them twice... Read as much as you like and I guarantee you won't be sorry for the time\n",
      "\n",
      "Category: Books\n",
      "\n",
      "Correct\n",
      "bad movie. | Didn't like the move and how the actors were play in it and the scenes were even too much for me to watch.\n",
      "\n",
      "Category: Movies_and_TV\n",
      "\n",
      "Correct\n",
      "How To Marry a Millionaire Vampire | I am currently in the middle of this book but so far I love it.  I love the humor and the characters.  There is nothing I love better than a book that can make me laugh out loud and this one does.  This is the first book by this author that I have read and I will read more.\n",
      "\n",
      "Category: Books\n",
      "\n",
      "Correct\n",
      "One of my all time favorite books. | If you haven't had a chance to read this book please pick up a copy for yourself as soon as possible. I actually was dreading reading this book in high school, but when I finally got around to it I was instantly absorbed in the plot, characters, and was sad it ended. Great book.\n",
      "\n",
      "Category: Books\n",
      "\n",
      "Correct\n",
      "A Labyrinth of Darkness Below and Between the Streets of London | I had heard of Neil Gaiman from a friend and finally decided to give his works a try, starting with Neverwhere. I found out from my local used bookseller that the television series came first and then the author wrote the book based upon the min-series.Neverwhere is a highly captivating story that takes place above and below the London streets. The story's protagonist, Richard Mayhew, unwittingly becomes involved in this underworld network after he helps a young girl, named Door, whom he found injured and bleeding in the London Underground. Richard's good samaritan deed plunges him into a darkly, disturbing world below the streets of London as to his dismay, he ceases to exist in the London above inasmuch as no one above remembers him. Soon Richard joins Door in a quest through the shadowy and dangerous London below to help her find who murdered her family.This wonderful novel has intrigue, mystery, and scary villains but it is the richly drawn characters that make this story exceptional. I found Gaiman's world to be fascinating, nightmarish, comic, and realistic. Very highly recommended.\n",
      "\n",
      "Category: Books\n",
      "\n",
      "Correct\n",
      "Inexpensive, easy to attach and remove, good fit | Fits every bike I have used it with perfectly. I ride with my seat at the proper height, so there is plenty of room under for a bag. Easy to attach and remove quickly. Plenty of space in the bag for tools, wallet, all the items I remove from my bike when I park it, etc. Great bag for the price.\n",
      "\n",
      "Category: Sports_and_Outdoors\n",
      "\n",
      "Correct\n",
      "Solid Product | I purchased the Topeak Pocket Rocket Master Blaster (what a name, huh?!) from Amazon after reading reviews for a number of portable bike pumps available on the site. Upon initial inspection, it really looks like a well-constructed product. The aluminum body is quite light, seems durable and the silver color shouldn't have a problem coordinating with really any color scheme. The valve stem locking mechanism seems solid, too.The multiple valve options (Schraeder/Presta/Dunlop) definitely are a nice touch. I've just started getting into road biking - my gf picked me up a '73 Schwinn Varsity from a yard sale - and the tubes in it use Schraeder valves. I assume I'll upgrade bikes/wheels/tubes at some point along the road (no pun intended), and didn't want to have to needlessly spend money on a different pump if different tubes are purchased. You'll need to do some adjustments with the plastic bits inside the head to switch between the 3, but that didn't take more than a couple minutes of adjusting around to figure out.As other reviewers have stated, this isn't aimed at being your primary bike pump (the small canister obviously lacks the capacity of a standing pump or air compressor), but if you're out biking and get a flat, this works exactly as it should. The only feature I can think of that could make it better would be a small pressure gauge, but that's just being nit picky. Any rider should be able to use this to pump their tire to adequate riding pressure with ease, at the very least until they're able to find a higher capacity, higher speed pump.I ordered this with a couple other items that qualified for free super-saver shipping. Shipping took just shy of 2 weeks, which was a bit of a let down since bike-riding season is quickly coming to a close. It was, however, a nice surprise when the items arrived at my doorstep, as the tracking number I was given had not even been updated beyond \"we have received notice to expect this shipment...\" by the time it arrived. But that's more a review of USPS than the product lol.\n",
      "\n",
      "Category: Sports_and_Outdoors\n",
      "\n",
      "Correct\n",
      "Junk JuNk JUNK | Belt clip will break! Case is alright but the plastic is brittle. WASTE of money if you ask me but you get what you pay for. *shrugs*\n",
      "\n",
      "Category: Cell_Phones_and_Accessories\n",
      "\n",
      "Correct\n",
      "Perfect Costume Component | These glasses gave me just the nerd look I was looking for when I dressed up as Steve Urkel. After a while, I forgot that I had them on because they fit so well.\n",
      "\n",
      "Category: Clothing_Shoes_and_Jewelry\n",
      "\n",
      "Correct\n",
      "A Link to Modern Egyptology | Nina Burleigh's, Mirage: Napoleon's Scientists and the Unveiling of Egypt (HarperCollins, 2007) is a historical non-fiction book about Napoleon's occupation of Egypt.  That campaign in 1798 is among history's more memorable military fiascos.  Napoleon himself beat a retreat back to France after just a year, but his troops remained as uneasy and unwilling occupiers in an exploratory expedition gone wrong, a situation that we are told by the historian Juan Cole in an article in The Nation, that is parallel with our current situation in Iraq.  Most readers were intrigued by the excellent link provided by this book between the decaying ruins of an ancient civilization and the birth of modern Egyptology.  It is clear that anyone with an interest in or fascination with Egypt, will enjoy this book.\n",
      "\n",
      "Category: Books\n",
      "\n",
      "Correct\n",
      "Roars to life! | You should know that I absolutely adore James Cagney and will consider him one of the greatest actors of any generation for as long as I am alive.  The man was spectacular, and while he certainly had his niche, he brought too much to it over his fantastic career.  Cagney was one of the greats, a man who could really evoke such raw and authenticated emotions with nearly every character he took on.  While he played roles that could lead him to be type-casted, he always made each performance stand on its own; giving a deserved life and uniqueness to characters that, on paper, could seem almost too similar.Case in point; `The Roaring Twenties'.The film follows the tragic eventualities of World War I soldier Eddie Bartlett.  Upon returning home from the war, Eddie found that picking up where he left off wasn't so easy to do.  The current state of the economy made it nearly impossible for him to find a steady, well-paying job, and with the rent due he was bound to be homeless and desperate very soon.  So, with nowhere else to turn, Bartlett gets wrapped up in bootleg liquor and other illegal activities that slowly (but steadily) drive him to the brink.  In the mix is a young love interest who stole Bartlett's heart through letters overseas, as well as a fellow bootlegger, Panama Smith, who finds herself falling for a man who has ignorant eyes for another.  And still, shaded even more, the bonus of a purely evil Humphrey Bogart finds `The Roaring Twenties' truly `roaring'.I had an issue with the film's insistence on a documentarian feel, with newsreel announcements that took away from the authentic feel the actors brought to the film.  It just derailed the film at parts, for me at least.  Some of the stereotypical plot turns took away from what this film `could have been', and at times it became a little too soap operatic in its character approach, but despite sketchy areas in the script, the actors as a whole brought so much realism to the roles that you eat up every word and action.James Cagney is at his best here, but he is aided immensely by a stellar supporting cast that includes Bogart (an actor I never felt showed much range but who certainly lived in the genre he helped make famous) as well as an effecting Gladys George and a beautiful Priscilla Lane.The production and direction is slick and perfectly paced, and the acting is on par with the greats from that year (yes, this is another classic from 1939). In fact, Cagney should have been Oscar nominated in my opinion, and possibly even Gladys George!  If you are a fan of the genre of Cagney then this is a must see film you most certainly will appreciate.\n",
      "\n",
      "Category: Movies_and_TV\n",
      "\n",
      "Correct\n",
      "To much confusion. | This is the fifth book I have read by Lisa Scottoline. I was disappointed in it. I enjoyed the others. This one had to many things going on at one time, it was almost like trying to read five or six different stories at the same time. There would be a chapter about Marta, then one about the jury, then one about City Hall, then one about Steere, then one about Judy and Mary, then she would start over again with Marta. The material on Marta at the beach house of Steere was a joke, I know it is fiction but for Marta to do what she did in that much cold and snow is so far out it is unreal. I had really looked forward to reading this book as I enjoyed the others so much. Don't know if I will try another one or not.\n",
      "\n",
      "Category: Books\n",
      "\n",
      "Correct\n",
      "front glass lcd display | I love it. It fits perfectly. Well worth the $20 spend. If I need to do it again I sure will.\n",
      "\n",
      "Category: Cell_Phones_and_Accessories\n",
      "\n",
      "Correct\n",
      "The Alchemist | This book is a parable like story of a young man's journey to finding his destiny and the trajectory path he took to find it.  Each experience he encountered and every person he met played a part in learning the language of the universe.It's entertaining and enlightening. It made me look at my life's experiences and reevaluate my destiny and what  I  have experienced so far. I look at life much differently now. I have a lot less regret and so much to look forward to.Highly recommended if you are searching but are afraid to seek.\n",
      "\n",
      "Category: Books\n",
      "\n",
      "Correct\n",
      "Fantastic bag for the money. | I went camping where the temps dropped into the low 30s. I was wearing just a t-shirt and boxers in this bag and was quite warm.It's a little bulky for backpacking, but not awful.I'm 6'1&#34;, 230lbs with broad shoulders and I found the bag to be a little restrictive. I could zip it all the way up, but it wasn't very comfortable, mostly because I'm not used to being mummified. Has the temperature dropped another ten degrees, I would have dealt with it. The length was fine and, as previously stated, it was quite warm.Overall, it's an exceptional bag for the money, but this is now my son's sleeping bag and I'm buying something larger.\n",
      "\n",
      "Category: Sports_and_Outdoors\n",
      "\n",
      "Correct\n"
     ]
    }
   ],
   "source": [
    "import random\n",
    "for i in range(50):\n",
    "    index = random.randint(1, len(data))\n",
    "    review = data['X'][index]\n",
    "    label = categories[int(data['Y'][index])]\n",
    "    print(review)\n",
    "    print('\\nCategory: {}\\n'.format(label))\n",
    "    encoded = nd.array([encode(review)], ctx=ctx)\n",
    "    output = net(encoded)\n",
    "    predicted = categories[np.argmax(output[0].asnumpy())]\n",
    "    if predicted == label:\n",
    "          print('Correct')\n",
    "    else:\n",
    "          print('Incorrectly predicted {}'.format(predicted))"
   ]
  },
  {
   "cell_type": "markdown",
   "metadata": {},
   "source": [
    "### Manual Testing\n",
    "We can also write our own reviews, encode them and see what the model predicts"
   ]
  },
  {
   "cell_type": "code",
   "execution_count": 42,
   "metadata": {},
   "outputs": [],
   "source": [
    "review_title = \"Good stuff\"\n",
    "review = \"This album is definitely better than the previous one\""
   ]
  },
  {
   "cell_type": "code",
   "execution_count": 43,
   "metadata": {},
   "outputs": [
    {
     "name": "stdout",
     "output_type": "stream",
     "text": [
      "Good stuff\n",
      "This album is definitely better than the previous one\n",
      "\n",
      "Predicted: CDs_and_Vinyl\n",
      "\n",
      "Home_and_Kitchen 0.0 %\n",
      "Books 0.0 %\n",
      "CDs_and_Vinyl 99.2 %\n",
      "Movies_and_TV 0.5 %\n",
      "Cell_Phones_and_Accessories 0.1 %\n",
      "Sports_and_Outdoors 0.0 %\n",
      "Clothing_Shoes_and_Jewelry 0.0 %\n"
     ]
    }
   ],
   "source": [
    "print(review_title)\n",
    "print(review + '\\n')\n",
    "encoded = nd.array([encode(review + \" | \" + review_title)], ctx=ctx)\n",
    "output = net(encoded)\n",
    "softmax = nd.exp(output) / nd.sum(nd.exp(output))[0]\n",
    "predicted = categories[np.argmax(output[0].asnumpy())]\n",
    "print('Predicted: {}\\n'.format(predicted))\n",
    "for i, val in enumerate(categories):\n",
    "    print(val, float(int(softmax[0][i].asnumpy()*1000)/10), '%')"
   ]
  },
  {
   "cell_type": "markdown",
   "metadata": {},
   "source": [
    "# Model Deployment\n",
    "\n",
    "Head over to the `model/` folder and have a look at the README.md to learn how you can deploy this pre-trained model to MXNet Model Server. You can then package the API in a docker container for cloud deployment!"
   ]
  },
  {
   "cell_type": "markdown",
   "metadata": {},
   "source": [
    "An interactive live demo is available [here](https://thomasdelteil.github.io/CNN_NLP_MXNet/)"
   ]
  },
  {
   "cell_type": "markdown",
   "metadata": {},
   "source": [
    "[![img](data/live_demo.png)](https://thomasdelteil.github.io/CNN_NLP_MXNet/)"
   ]
  }
 ],
 "metadata": {
  "kernelspec": {
   "display_name": "Python 3",
   "language": "python",
   "name": "python3"
  },
  "language_info": {
   "codemirror_mode": {
    "name": "ipython",
    "version": 3
   },
   "file_extension": ".py",
   "mimetype": "text/x-python",
   "name": "python",
   "nbconvert_exporter": "python",
   "pygments_lexer": "ipython3",
   "version": "3.6.4"
  }
 },
 "nbformat": 4,
 "nbformat_minor": 2
}
